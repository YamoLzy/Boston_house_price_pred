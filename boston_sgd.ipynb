{
 "cells": [
  {
   "cell_type": "code",
   "execution_count": 13,
   "id": "3665fa15",
   "metadata": {},
   "outputs": [],
   "source": [
    "import numpy as np\n",
    "import pandas as pd\n",
    "import matplotlib.pyplot as plt\n",
    "from sklearn.datasets import load_boston\n",
    "from sklearn import model_selection\n",
    "%matplotlib inline"
   ]
  },
  {
   "cell_type": "markdown",
   "id": "2a420e1f",
   "metadata": {},
   "source": [
    "## Load Dataset"
   ]
  },
  {
   "cell_type": "code",
   "execution_count": 5,
   "id": "c5a93624",
   "metadata": {},
   "outputs": [],
   "source": [
    "boston_ds = load_boston()\n",
    "# print(boston_ds['DESCR'])"
   ]
  },
  {
   "cell_type": "code",
   "execution_count": 22,
   "id": "08931437",
   "metadata": {},
   "outputs": [
    {
     "name": "stdout",
     "output_type": "stream",
     "text": [
      "(506, 13)\n",
      "(506,)\n"
     ]
    }
   ],
   "source": [
    "x = boston_ds.data\n",
    "y = boston_ds.target\n",
    "print(x.shape)\n",
    "print(y.shape)\n",
    "# print(y)"
   ]
  },
  {
   "cell_type": "code",
   "execution_count": 60,
   "id": "14df06da",
   "metadata": {},
   "outputs": [
    {
     "name": "stdout",
     "output_type": "stream",
     "text": [
      "        CRIM    ZN  INDUS  CHAS    NOX     RM   AGE     DIS   RAD    TAX  \\\n",
      "0    6.28807   0.0  18.10   0.0  0.740  6.341  96.4  2.0720  24.0  666.0   \n",
      "1    3.84970   0.0  18.10   1.0  0.770  6.395  91.0  2.5052  24.0  666.0   \n",
      "2    0.51183   0.0   6.20   0.0  0.507  7.358  71.6  4.1480   8.0  307.0   \n",
      "3    1.46336   0.0  19.58   0.0  0.605  7.489  90.8  1.9709   5.0  403.0   \n",
      "4    0.19657  22.0   5.86   0.0  0.431  6.226  79.2  8.0555   7.0  330.0   \n",
      "..       ...   ...    ...   ...    ...    ...   ...     ...   ...    ...   \n",
      "374  0.03551  25.0   4.86   0.0  0.426  6.167  46.7  5.4007   4.0  281.0   \n",
      "375  6.53876   0.0  18.10   1.0  0.631  7.016  97.5  1.2024  24.0  666.0   \n",
      "376  0.01439  60.0   2.93   0.0  0.401  6.604  18.8  6.2196   1.0  265.0   \n",
      "377  2.14918   0.0  19.58   0.0  0.871  5.709  98.5  1.6232   5.0  403.0   \n",
      "378  0.16760   0.0   7.38   0.0  0.493  6.426  52.3  4.5404   5.0  287.0   \n",
      "\n",
      "     PTRATIO       B  LSTAT  \n",
      "0       20.2  318.01  17.79  \n",
      "1       20.2  391.34  13.27  \n",
      "2       17.4  390.07   4.73  \n",
      "3       14.7  374.43   1.73  \n",
      "4       19.1  376.14  10.15  \n",
      "..       ...     ...    ...  \n",
      "374     19.0  390.64   7.51  \n",
      "375     20.2  392.05   2.96  \n",
      "376     15.6  376.70   4.38  \n",
      "377     14.7  261.95  15.79  \n",
      "378     19.6  396.90   7.20  \n",
      "\n",
      "[379 rows x 13 columns]\n",
      "(379, 13)\n",
      "(379,)\n"
     ]
    }
   ],
   "source": [
    "x_train, x_test, y_train, y_test = model_selection.train_test_split(x,y,test_size=0.25) # split ds into train and test\n",
    "train_dl = pd.DataFrame(x_train, columns = boston_ds.feature_names) # 13 features in total\n",
    "print(train_dl)\n",
    "print(x_train.shape)\n",
    "print(y_train.shape)"
   ]
  },
  {
   "cell_type": "code",
   "execution_count": 61,
   "id": "55ea409d",
   "metadata": {},
   "outputs": [
    {
     "data": {
      "text/html": [
       "<div>\n",
       "<style scoped>\n",
       "    .dataframe tbody tr th:only-of-type {\n",
       "        vertical-align: middle;\n",
       "    }\n",
       "\n",
       "    .dataframe tbody tr th {\n",
       "        vertical-align: top;\n",
       "    }\n",
       "\n",
       "    .dataframe thead th {\n",
       "        text-align: right;\n",
       "    }\n",
       "</style>\n",
       "<table border=\"1\" class=\"dataframe\">\n",
       "  <thead>\n",
       "    <tr style=\"text-align: right;\">\n",
       "      <th></th>\n",
       "      <th>CRIM</th>\n",
       "      <th>ZN</th>\n",
       "      <th>INDUS</th>\n",
       "      <th>CHAS</th>\n",
       "      <th>NOX</th>\n",
       "      <th>RM</th>\n",
       "      <th>AGE</th>\n",
       "      <th>DIS</th>\n",
       "      <th>RAD</th>\n",
       "      <th>TAX</th>\n",
       "      <th>PTRATIO</th>\n",
       "      <th>B</th>\n",
       "      <th>LSTAT</th>\n",
       "      <th>MEDV</th>\n",
       "    </tr>\n",
       "  </thead>\n",
       "  <tbody>\n",
       "    <tr>\n",
       "      <th>count</th>\n",
       "      <td>379.000000</td>\n",
       "      <td>379.000000</td>\n",
       "      <td>379.000000</td>\n",
       "      <td>379.000000</td>\n",
       "      <td>379.000000</td>\n",
       "      <td>379.000000</td>\n",
       "      <td>379.000000</td>\n",
       "      <td>379.000000</td>\n",
       "      <td>379.000000</td>\n",
       "      <td>379.000000</td>\n",
       "      <td>379.000000</td>\n",
       "      <td>379.000000</td>\n",
       "      <td>379.000000</td>\n",
       "      <td>379.000000</td>\n",
       "    </tr>\n",
       "    <tr>\n",
       "      <th>mean</th>\n",
       "      <td>3.819437</td>\n",
       "      <td>10.843008</td>\n",
       "      <td>11.446306</td>\n",
       "      <td>0.065963</td>\n",
       "      <td>0.560076</td>\n",
       "      <td>6.290712</td>\n",
       "      <td>69.148549</td>\n",
       "      <td>3.731110</td>\n",
       "      <td>9.815303</td>\n",
       "      <td>415.142480</td>\n",
       "      <td>18.511873</td>\n",
       "      <td>356.082691</td>\n",
       "      <td>12.748971</td>\n",
       "      <td>22.093668</td>\n",
       "    </tr>\n",
       "    <tr>\n",
       "      <th>std</th>\n",
       "      <td>8.730544</td>\n",
       "      <td>22.663189</td>\n",
       "      <td>6.855178</td>\n",
       "      <td>0.248546</td>\n",
       "      <td>0.119404</td>\n",
       "      <td>0.708406</td>\n",
       "      <td>28.155665</td>\n",
       "      <td>2.077845</td>\n",
       "      <td>8.793497</td>\n",
       "      <td>168.621883</td>\n",
       "      <td>2.223049</td>\n",
       "      <td>91.172359</td>\n",
       "      <td>7.005317</td>\n",
       "      <td>8.897438</td>\n",
       "    </tr>\n",
       "    <tr>\n",
       "      <th>min</th>\n",
       "      <td>0.009060</td>\n",
       "      <td>0.000000</td>\n",
       "      <td>0.740000</td>\n",
       "      <td>0.000000</td>\n",
       "      <td>0.392000</td>\n",
       "      <td>3.561000</td>\n",
       "      <td>2.900000</td>\n",
       "      <td>1.174200</td>\n",
       "      <td>1.000000</td>\n",
       "      <td>187.000000</td>\n",
       "      <td>12.600000</td>\n",
       "      <td>0.320000</td>\n",
       "      <td>1.730000</td>\n",
       "      <td>5.000000</td>\n",
       "    </tr>\n",
       "    <tr>\n",
       "      <th>25%</th>\n",
       "      <td>0.090855</td>\n",
       "      <td>0.000000</td>\n",
       "      <td>5.320000</td>\n",
       "      <td>0.000000</td>\n",
       "      <td>0.453000</td>\n",
       "      <td>5.882500</td>\n",
       "      <td>46.950000</td>\n",
       "      <td>2.049300</td>\n",
       "      <td>4.000000</td>\n",
       "      <td>286.000000</td>\n",
       "      <td>17.400000</td>\n",
       "      <td>376.090000</td>\n",
       "      <td>7.185000</td>\n",
       "      <td>16.600000</td>\n",
       "    </tr>\n",
       "    <tr>\n",
       "      <th>50%</th>\n",
       "      <td>0.322640</td>\n",
       "      <td>0.000000</td>\n",
       "      <td>9.900000</td>\n",
       "      <td>0.000000</td>\n",
       "      <td>0.538000</td>\n",
       "      <td>6.208000</td>\n",
       "      <td>77.800000</td>\n",
       "      <td>3.092300</td>\n",
       "      <td>5.000000</td>\n",
       "      <td>337.000000</td>\n",
       "      <td>19.100000</td>\n",
       "      <td>391.130000</td>\n",
       "      <td>11.660000</td>\n",
       "      <td>21.100000</td>\n",
       "    </tr>\n",
       "    <tr>\n",
       "      <th>75%</th>\n",
       "      <td>3.843270</td>\n",
       "      <td>12.500000</td>\n",
       "      <td>18.100000</td>\n",
       "      <td>0.000000</td>\n",
       "      <td>0.639000</td>\n",
       "      <td>6.611000</td>\n",
       "      <td>94.100000</td>\n",
       "      <td>5.164950</td>\n",
       "      <td>24.000000</td>\n",
       "      <td>666.000000</td>\n",
       "      <td>20.200000</td>\n",
       "      <td>396.060000</td>\n",
       "      <td>17.140000</td>\n",
       "      <td>24.900000</td>\n",
       "    </tr>\n",
       "    <tr>\n",
       "      <th>max</th>\n",
       "      <td>88.976200</td>\n",
       "      <td>100.000000</td>\n",
       "      <td>27.740000</td>\n",
       "      <td>1.000000</td>\n",
       "      <td>0.871000</td>\n",
       "      <td>8.780000</td>\n",
       "      <td>100.000000</td>\n",
       "      <td>12.126500</td>\n",
       "      <td>24.000000</td>\n",
       "      <td>711.000000</td>\n",
       "      <td>22.000000</td>\n",
       "      <td>396.900000</td>\n",
       "      <td>36.980000</td>\n",
       "      <td>50.000000</td>\n",
       "    </tr>\n",
       "  </tbody>\n",
       "</table>\n",
       "</div>"
      ],
      "text/plain": [
       "             CRIM          ZN       INDUS        CHAS         NOX          RM  \\\n",
       "count  379.000000  379.000000  379.000000  379.000000  379.000000  379.000000   \n",
       "mean     3.819437   10.843008   11.446306    0.065963    0.560076    6.290712   \n",
       "std      8.730544   22.663189    6.855178    0.248546    0.119404    0.708406   \n",
       "min      0.009060    0.000000    0.740000    0.000000    0.392000    3.561000   \n",
       "25%      0.090855    0.000000    5.320000    0.000000    0.453000    5.882500   \n",
       "50%      0.322640    0.000000    9.900000    0.000000    0.538000    6.208000   \n",
       "75%      3.843270   12.500000   18.100000    0.000000    0.639000    6.611000   \n",
       "max     88.976200  100.000000   27.740000    1.000000    0.871000    8.780000   \n",
       "\n",
       "              AGE         DIS         RAD         TAX     PTRATIO           B  \\\n",
       "count  379.000000  379.000000  379.000000  379.000000  379.000000  379.000000   \n",
       "mean    69.148549    3.731110    9.815303  415.142480   18.511873  356.082691   \n",
       "std     28.155665    2.077845    8.793497  168.621883    2.223049   91.172359   \n",
       "min      2.900000    1.174200    1.000000  187.000000   12.600000    0.320000   \n",
       "25%     46.950000    2.049300    4.000000  286.000000   17.400000  376.090000   \n",
       "50%     77.800000    3.092300    5.000000  337.000000   19.100000  391.130000   \n",
       "75%     94.100000    5.164950   24.000000  666.000000   20.200000  396.060000   \n",
       "max    100.000000   12.126500   24.000000  711.000000   22.000000  396.900000   \n",
       "\n",
       "            LSTAT        MEDV  \n",
       "count  379.000000  379.000000  \n",
       "mean    12.748971   22.093668  \n",
       "std      7.005317    8.897438  \n",
       "min      1.730000    5.000000  \n",
       "25%      7.185000   16.600000  \n",
       "50%     11.660000   21.100000  \n",
       "75%     17.140000   24.900000  \n",
       "max     36.980000   50.000000  "
      ]
     },
     "execution_count": 61,
     "metadata": {},
     "output_type": "execute_result"
    }
   ],
   "source": [
    "train_dl[\"MEDV\"] = y_train\n",
    "train_dl.describe()"
   ]
  },
  {
   "cell_type": "markdown",
   "id": "4256dd1f",
   "metadata": {},
   "source": [
    "## Connection between features and prices - examples"
   ]
  },
  {
   "cell_type": "code",
   "execution_count": 177,
   "id": "3d9d2dbe",
   "metadata": {},
   "outputs": [
    {
     "data": {
      "image/png": "[encoded data removed]",
      "text/plain": [
       "<Figure size 504x360 with 1 Axes>"
      ]
     },
     "metadata": {
      "needs_background": "light"
     },
     "output_type": "display_data"
    }
   ],
   "source": [
    "fig = plt.figure(figsize=(7,5))\n",
    "plt.scatter(train_dl['RM'],train_dl['MEDV'],color='purple')\n",
    "plt.xlabel('RM')\n",
    "plt.ylabel('MEDV')\n",
    "plt.grid(ls = '--')"
   ]
  },
  {
   "cell_type": "code",
   "execution_count": 179,
   "id": "31a23ba8",
   "metadata": {},
   "outputs": [
    {
     "data": {
      "image/png": "[encoded data removed]",
      "text/plain": [
       "<Figure size 504x360 with 1 Axes>"
      ]
     },
     "metadata": {
      "needs_background": "light"
     },
     "output_type": "display_data"
    }
   ],
   "source": [
    "fig = plt.figure(figsize=(7,5))\n",
    "plt.scatter(train_dl['AGE'],train_dl['MEDV'],color='red')\n",
    "plt.xlabel('AGE')\n",
    "plt.ylabel('MEDV')\n",
    "plt.grid(ls = '--')"
   ]
  },
  {
   "cell_type": "code",
   "execution_count": 180,
   "id": "ade3fa1c",
   "metadata": {},
   "outputs": [
    {
     "data": {
      "image/png": "[encoded data removed]",
      "text/plain": [
       "<Figure size 504x360 with 1 Axes>"
      ]
     },
     "metadata": {
      "needs_background": "light"
     },
     "output_type": "display_data"
    }
   ],
   "source": [
    "fig = plt.figure(figsize=(7,5))\n",
    "plt.scatter(train_dl['TAX'],train_dl['MEDV'],color='green')\n",
    "plt.xlabel('TAX')\n",
    "plt.ylabel('MEDV')\n",
    "plt.grid(ls = '--')"
   ]
  },
  {
   "cell_type": "markdown",
   "id": "96d6791b",
   "metadata": {},
   "source": [
    "## Define Cost Function"
   ]
  },
  {
   "cell_type": "code",
   "execution_count": 155,
   "id": "77280ed6",
   "metadata": {},
   "outputs": [],
   "source": [
    "def compute_cost(x,y,w):\n",
    "    \n",
    "    N = len(y)\n",
    "    a = np.dot(x,w)\n",
    "    c = np.sum((y-a)**2) / (2.0*N)\n",
    "    \n",
    "    return c"
   ]
  },
  {
   "cell_type": "markdown",
   "id": "bbf358ce",
   "metadata": {},
   "source": [
    "## SGD"
   ]
  },
  {
   "cell_type": "code",
   "execution_count": 138,
   "id": "727eac74",
   "metadata": {},
   "outputs": [],
   "source": [
    "def compute_gradient(x,w,y):\n",
    "    \n",
    "    N = len(y)\n",
    "    error = np.dot(x,w) - y\n",
    "    gd = np.dot(np.transpose(x),error) / float(N)\n",
    "    \n",
    "    return gd"
   ]
  },
  {
   "cell_type": "code",
   "execution_count": 303,
   "id": "d1cab926",
   "metadata": {},
   "outputs": [],
   "source": [
    "def sgd_solver(x,y,freq,iteration,learning_rate):\n",
    "    \n",
    "    x_train = x.copy()\n",
    "    x_add = np.ones((len(y),1))\n",
    "    x_train = np.hstack([x_train,x_add])\n",
    "    \n",
    "    np.random.seed(123)\n",
    "    w = np.random.uniform(-10,10,14)\n",
    "    \n",
    "    cost_save = []\n",
    "    \n",
    "    for i in range(iteration):\n",
    "        \n",
    "        cost_inner = compute_cost(x_train,y,w)\n",
    "        cost_save.append(cost_inner)\n",
    "        \n",
    "        dw = compute_gradient(x_train,w,y)\n",
    "        w = w - learning_rate*dw\n",
    "        \n",
    "        if i % freq == 0:\n",
    "            print('The %d iteration, weight = %s' % (i, w))\n",
    "            \n",
    "    return w, cost_save"
   ]
  },
  {
   "cell_type": "markdown",
   "id": "78a28ff6",
   "metadata": {},
   "source": [
    "## Preprocessing"
   ]
  },
  {
   "cell_type": "code",
   "execution_count": 304,
   "id": "d40f6485",
   "metadata": {},
   "outputs": [],
   "source": [
    "from sklearn import preprocessing\n",
    "\n",
    "std_scaler = preprocessing.StandardScaler()\n",
    "norm_scaler = preprocessing.MinMaxScaler()\n",
    "x_train_std = std_scaler.fit_transform(x_train)"
   ]
  },
  {
   "cell_type": "markdown",
   "id": "b84ce3c5",
   "metadata": {},
   "source": [
    "## Training"
   ]
  },
  {
   "cell_type": "code",
   "execution_count": 315,
   "id": "f9bc4695",
   "metadata": {},
   "outputs": [],
   "source": [
    "lr = 0.005\n",
    "num_iter = 20000\n",
    "print_freq = 2000"
   ]
  },
  {
   "cell_type": "code",
   "execution_count": 316,
   "id": "a551164d",
   "metadata": {
    "scrolled": true
   },
   "outputs": [
    {
     "name": "stdout",
     "output_type": "stream",
     "text": [
      "The 0 iteration, weight = [ 3.90138759 -4.24081195 -5.48771769  1.01807271  4.34844498 -1.50336317\n",
      "  9.56393338  3.72828475 -0.39775494 -2.17576916 -3.15111845  4.58021488\n",
      " -1.27228337 -8.65194152]\n",
      "The 2000 iteration, weight = [-0.61402407 -0.25045666 -0.40204199  0.3846409  -1.0084765   3.0364357\n",
      "  0.34502253 -1.00592117  0.90973147 -0.73448565 -2.40266724  0.61604716\n",
      " -3.51370336 22.09230628]\n",
      "The 4000 iteration, weight = [-7.84447712e-01  2.68271429e-01  1.26576299e-02  4.29317994e-01\n",
      " -1.80364487e+00  3.14531931e+00 -1.26080751e-01 -2.17268210e+00\n",
      "  1.39215130e+00 -1.34467141e+00 -2.37777446e+00  6.33351736e-01\n",
      " -3.07634777e+00  2.20936675e+01]\n",
      "The 6000 iteration, weight = [-0.83819942  0.39751994  0.15057207  0.42711335 -1.96473242  3.13584068\n",
      " -0.1761221  -2.38917074  1.71866255 -1.70952658 -2.38300436  0.64049529\n",
      " -3.0141446  22.09366755]\n",
      "The 8000 iteration, weight = [-0.85817049  0.44207977  0.22530281  0.42156021 -2.00492644  3.12500857\n",
      " -0.17733687 -2.43336354  1.90096534 -1.91647092 -2.38751456  0.643962\n",
      " -3.00645975 22.09366755]\n",
      "The 10000 iteration, weight = [-0.86719912  0.46194305  0.26695788  0.4178219  -2.01833795  3.11895927\n",
      " -0.17432865 -2.44442431  2.00080985 -2.0313405  -2.39000278  0.6458404\n",
      " -3.00591307 22.09366755]\n",
      "The 12000 iteration, weight = [-0.87179205  0.47202435  0.28994338  0.41565987 -2.02410355  3.11573592\n",
      " -0.17216356 -2.44816318  2.05543195 -2.0945525  -2.39132521  0.64687601\n",
      " -3.00612243 22.09366755]\n",
      "The 14000 iteration, weight = [-0.87424395  0.47740491  0.30256022  0.41445674 -2.02696625  3.11400135\n",
      " -0.17090672 -2.44980199  2.08532562 -2.1292259  -2.39203409  0.64744598\n",
      " -3.00630815 22.09366755]\n",
      "The 16000 iteration, weight = [-0.87557521  0.48032657  0.30947317  0.4137947  -2.02847827  3.11305909\n",
      " -0.17020923 -2.45062732  2.10169006 -2.14822288 -2.39241794  0.64775882\n",
      " -3.00641976 22.09366755]\n",
      "The 18000 iteration, weight = [-0.8763021   0.48192201  0.31325885  0.41343166 -2.02929566  3.11254482\n",
      " -0.16982625 -2.4510665   2.11064932 -2.15862662 -2.39262703  0.64793029\n",
      " -3.00648222 22.09366755]\n"
     ]
    }
   ],
   "source": [
    "weight, cost = sgd_solver(x_train_std,y_train,print_freq,num_iter,lr)"
   ]
  },
  {
   "cell_type": "code",
   "execution_count": 317,
   "id": "0388488a",
   "metadata": {
    "scrolled": true
   },
   "outputs": [
    {
     "data": {
      "image/png": "[encoded data removed]",
      "text/plain": [
       "<Figure size 720x360 with 1 Axes>"
      ]
     },
     "metadata": {
      "needs_background": "light"
     },
     "output_type": "display_data"
    }
   ],
   "source": [
    "xx = np.arange(len(cost))\n",
    "yy = cost\n",
    "\n",
    "fig = plt.figure(figsize=(10,5))\n",
    "plt.plot(xx,yy,color='orange')\n",
    "plt.xlabel('iterations')\n",
    "plt.ylabel('cost')\n",
    "plt.title('cost convergence vs iterations')\n",
    "plt.grid(ls = '--')"
   ]
  },
  {
   "cell_type": "markdown",
   "id": "fad449f0",
   "metadata": {},
   "source": [
    "## Predict"
   ]
  },
  {
   "cell_type": "code",
   "execution_count": 318,
   "id": "e78f5ead",
   "metadata": {},
   "outputs": [],
   "source": [
    "def pred_result(x,w):\n",
    "    \n",
    "    pred = x @ w\n",
    "    \n",
    "    return pred"
   ]
  },
  {
   "cell_type": "code",
   "execution_count": 319,
   "id": "f8920b28",
   "metadata": {},
   "outputs": [],
   "source": [
    "x_test_std = std_scaler.transform(x_test)\n",
    "added = np.ones((len(x_test),1))\n",
    "x_test_added = np.hstack([x_test_std,added])"
   ]
  },
  {
   "cell_type": "code",
   "execution_count": 329,
   "id": "7a23e513",
   "metadata": {
    "scrolled": true
   },
   "outputs": [
    {
     "name": "stdout",
     "output_type": "stream",
     "text": [
      "[ 2.43982828e+01  2.42913853e+01  2.02753342e+01  2.85728090e+01\n",
      "  1.76796671e+01  1.10901313e+01  1.03128734e+01  2.71727633e+01\n",
      "  2.05016471e+01  2.31125889e+01  3.26903339e+01  2.71006185e+01\n",
      "  2.25384709e+01  2.86877396e+01  3.27415855e+01  4.01774768e+01\n",
      "  2.49045655e+01  1.78014187e+01  2.27373892e+01  1.76898011e+01\n",
      "  2.70734450e+01  2.48684035e+01  2.87091028e+01  2.05239469e+01\n",
      "  2.45897493e+01  3.05183562e+01  2.06178521e+01  1.72661630e+01\n",
      "  1.78281491e+01  2.48081978e+01  1.48370301e+01  3.40264073e+01\n",
      "  2.98237977e+01  2.36080277e+01  2.36381176e+01  1.81763761e+01\n",
      "  1.35476888e+01  3.12652040e+01  2.29430861e+01  2.30421457e+01\n",
      "  1.58230252e+01  3.42734993e+01  2.88690825e+01  1.74664576e+01\n",
      "  2.08404355e+01  3.32755488e+01  2.38455562e+01  2.27521082e+01\n",
      "  2.56211309e+01  5.57142904e+00  2.20920604e+01  2.55717087e+01\n",
      "  1.21729838e+01  2.03211121e+01  1.57761240e+01  3.48763367e+01\n",
      "  1.82088459e+01  2.49019341e+01  2.32446606e+01  3.00031555e+01\n",
      "  6.22281576e+00  3.62489807e+01  3.28180353e+01  5.77307524e+00\n",
      "  1.60841889e+01  3.31754013e+01  2.01704502e+01  1.56352637e+01\n",
      "  6.09783145e+00  1.96861373e+01  2.19523060e+01  1.37885649e+01\n",
      "  1.32408141e+01  2.34824353e+01  3.25843235e+01  1.40529836e+01\n",
      "  3.32197345e+01  2.08256745e+01  1.89994129e+01  2.28145360e+01\n",
      "  1.84527134e+01  1.54407416e+01  2.24762030e+01  2.64538590e+01\n",
      " -2.02048725e-02  1.70389041e+01  2.01894864e+01  2.44151916e+01\n",
      "  1.93975667e+01  2.54880245e+01  1.85330118e+01  2.90807639e+01\n",
      "  2.51715205e+01  2.90419637e+01  1.39840199e+01  2.75460143e+01\n",
      "  3.18698917e+01  1.35944283e+01  3.71626744e+01  4.69528272e+00\n",
      "  1.35904207e+01  1.67346557e+01  4.32221772e+01  2.51905603e+01\n",
      "  2.26478308e+01  1.86340229e+01  3.46200566e+01  1.18660301e+01\n",
      "  2.90700753e+01  2.59584965e+01  3.47791982e+01  2.43997749e+01\n",
      "  4.21136979e+01  3.05393053e+01  2.16939586e+01  1.82451264e+01\n",
      "  1.80525493e+01  1.77262892e+01  2.30591151e+01  2.12418363e+01\n",
      "  1.66150360e+01  2.80995966e+01  2.50627025e+01  1.98148878e+01\n",
      "  2.69574006e+01  5.95868234e+00  3.55621768e+01]\n"
     ]
    }
   ],
   "source": [
    "y_pred = pred_rst(x_test_added,weight)\n",
    "print(y_pred)"
   ]
  },
  {
   "cell_type": "markdown",
   "id": "61d236a7",
   "metadata": {},
   "source": [
    "## Compute Accuracy"
   ]
  },
  {
   "cell_type": "code",
   "execution_count": 327,
   "id": "f2ed9630",
   "metadata": {},
   "outputs": [],
   "source": [
    "def compute_accu(y,pred):\n",
    "    \n",
    "    n = len(y)\n",
    "    accu_save = []\n",
    "    \n",
    "    for j in range(n):\n",
    "        \n",
    "        accu = abs(y[j]-pred[j]) / y[j]\n",
    "        accu_save.append(accu)\n",
    "        \n",
    "    accu_avg = sum(accu_save) / len(accu_save)\n",
    "    \n",
    "    return (1-accu_avg)"
   ]
  },
  {
   "cell_type": "code",
   "execution_count": 328,
   "id": "6966ff09",
   "metadata": {},
   "outputs": [
    {
     "data": {
      "text/plain": [
       "0.8453256070510098"
      ]
     },
     "execution_count": 328,
     "metadata": {},
     "output_type": "execute_result"
    }
   ],
   "source": [
    "compute_accu(y_test,y_pred)"
   ]
  }
 ],
 "metadata": {
  "kernelspec": {
   "display_name": "Python 3",
   "language": "python",
   "name": "python3"
  },
  "language_info": {
   "codemirror_mode": {
    "name": "ipython",
    "version": 3
   },
   "file_extension": ".py",
   "mimetype": "text/x-python",
   "name": "python",
   "nbconvert_exporter": "python",
   "pygments_lexer": "ipython3",
   "version": "3.8.8"
  }
 },
 "nbformat": 4,
 "nbformat_minor": 5
}
